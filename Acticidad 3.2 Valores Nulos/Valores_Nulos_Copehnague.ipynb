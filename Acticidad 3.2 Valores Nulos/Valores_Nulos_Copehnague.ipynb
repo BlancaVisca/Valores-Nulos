{
 "cells": [
  {
   "cell_type": "code",
   "execution_count": 8,
   "metadata": {},
   "outputs": [],
   "source": [
    "import pandas as pd\n",
    "import numpy as np\n",
    "import matplotlib.pyplot as plt"
   ]
  },
  {
   "cell_type": "code",
   "execution_count": 9,
   "metadata": {},
   "outputs": [
    {
     "data": {
      "text/html": [
       "<div>\n",
       "<style scoped>\n",
       "    .dataframe tbody tr th:only-of-type {\n",
       "        vertical-align: middle;\n",
       "    }\n",
       "\n",
       "    .dataframe tbody tr th {\n",
       "        vertical-align: top;\n",
       "    }\n",
       "\n",
       "    .dataframe thead th {\n",
       "        text-align: right;\n",
       "    }\n",
       "</style>\n",
       "<table border=\"1\" class=\"dataframe\">\n",
       "  <thead>\n",
       "    <tr style=\"text-align: right;\">\n",
       "      <th></th>\n",
       "      <th>id</th>\n",
       "      <th>listing_url</th>\n",
       "      <th>scrape_id</th>\n",
       "      <th>last_scraped</th>\n",
       "      <th>source</th>\n",
       "      <th>name</th>\n",
       "      <th>description</th>\n",
       "      <th>neighborhood_overview</th>\n",
       "      <th>picture_url</th>\n",
       "      <th>host_id</th>\n",
       "      <th>...</th>\n",
       "      <th>review_scores_communication</th>\n",
       "      <th>review_scores_location</th>\n",
       "      <th>review_scores_value</th>\n",
       "      <th>license</th>\n",
       "      <th>instant_bookable</th>\n",
       "      <th>calculated_host_listings_count</th>\n",
       "      <th>calculated_host_listings_count_entire_homes</th>\n",
       "      <th>calculated_host_listings_count_private_rooms</th>\n",
       "      <th>calculated_host_listings_count_shared_rooms</th>\n",
       "      <th>reviews_per_month</th>\n",
       "    </tr>\n",
       "  </thead>\n",
       "  <tbody>\n",
       "    <tr>\n",
       "      <th>0</th>\n",
       "      <td>338928</td>\n",
       "      <td>https://www.airbnb.com/rooms/338928</td>\n",
       "      <td>20240928011742</td>\n",
       "      <td>2024-09-28</td>\n",
       "      <td>previous scrape</td>\n",
       "      <td>Art&amp;Design apt in hip Nørrebro - 2BR</td>\n",
       "      <td>Bright, cozy, and well-furnished 3rd floor des...</td>\n",
       "      <td>The apartment is located in trendy Nørrebro wi...</td>\n",
       "      <td>https://a0.muscache.com/pictures/35e8972e-36a9...</td>\n",
       "      <td>113348</td>\n",
       "      <td>...</td>\n",
       "      <td>4.95</td>\n",
       "      <td>4.90</td>\n",
       "      <td>4.79</td>\n",
       "      <td>NaN</td>\n",
       "      <td>f</td>\n",
       "      <td>1</td>\n",
       "      <td>1</td>\n",
       "      <td>0</td>\n",
       "      <td>0</td>\n",
       "      <td>0.66</td>\n",
       "    </tr>\n",
       "    <tr>\n",
       "      <th>1</th>\n",
       "      <td>31094</td>\n",
       "      <td>https://www.airbnb.com/rooms/31094</td>\n",
       "      <td>20240928011742</td>\n",
       "      <td>2024-09-28</td>\n",
       "      <td>previous scrape</td>\n",
       "      <td>Beautiful, spacious, central, renovated Penthouse</td>\n",
       "      <td>Welcome to our home, we hope you will enjoy Wo...</td>\n",
       "      <td>What else is nearby?&lt;br /&gt;To be honest, We thi...</td>\n",
       "      <td>https://a0.muscache.com/pictures/miso/Hosting-...</td>\n",
       "      <td>129976</td>\n",
       "      <td>...</td>\n",
       "      <td>4.82</td>\n",
       "      <td>4.80</td>\n",
       "      <td>4.53</td>\n",
       "      <td>NaN</td>\n",
       "      <td>f</td>\n",
       "      <td>1</td>\n",
       "      <td>1</td>\n",
       "      <td>0</td>\n",
       "      <td>0</td>\n",
       "      <td>0.11</td>\n",
       "    </tr>\n",
       "    <tr>\n",
       "      <th>2</th>\n",
       "      <td>32379</td>\n",
       "      <td>https://www.airbnb.com/rooms/32379</td>\n",
       "      <td>20240928011742</td>\n",
       "      <td>2024-09-28</td>\n",
       "      <td>previous scrape</td>\n",
       "      <td>155 m2 artist flat on Vesterbro, with 2 bathrooms</td>\n",
       "      <td>You enter a narrow entrance and feel the good ...</td>\n",
       "      <td>Værnedamsvej area is super hip area, we call i...</td>\n",
       "      <td>https://a0.muscache.com/pictures/miso/Hosting-...</td>\n",
       "      <td>140105</td>\n",
       "      <td>...</td>\n",
       "      <td>4.91</td>\n",
       "      <td>4.89</td>\n",
       "      <td>4.71</td>\n",
       "      <td>NaN</td>\n",
       "      <td>f</td>\n",
       "      <td>2</td>\n",
       "      <td>1</td>\n",
       "      <td>1</td>\n",
       "      <td>0</td>\n",
       "      <td>0.48</td>\n",
       "    </tr>\n",
       "    <tr>\n",
       "      <th>3</th>\n",
       "      <td>32841</td>\n",
       "      <td>https://www.airbnb.com/rooms/32841</td>\n",
       "      <td>20240928011742</td>\n",
       "      <td>2024-09-28</td>\n",
       "      <td>previous scrape</td>\n",
       "      <td>Cozy flat for Adults/Quiet for kids</td>\n",
       "      <td>Our flat is placed in a Central AND Quiet neig...</td>\n",
       "      <td>NaN</td>\n",
       "      <td>https://a0.muscache.com/pictures/28047599/8efd...</td>\n",
       "      <td>142143</td>\n",
       "      <td>...</td>\n",
       "      <td>5.00</td>\n",
       "      <td>4.50</td>\n",
       "      <td>4.50</td>\n",
       "      <td>NaN</td>\n",
       "      <td>f</td>\n",
       "      <td>1</td>\n",
       "      <td>1</td>\n",
       "      <td>0</td>\n",
       "      <td>0</td>\n",
       "      <td>0.04</td>\n",
       "    </tr>\n",
       "    <tr>\n",
       "      <th>4</th>\n",
       "      <td>38499</td>\n",
       "      <td>https://www.airbnb.com/rooms/38499</td>\n",
       "      <td>20240928011742</td>\n",
       "      <td>2024-09-28</td>\n",
       "      <td>city scrape</td>\n",
       "      <td>0 min. from everything in Cph.</td>\n",
       "      <td>It doesn't get more central than this. Histori...</td>\n",
       "      <td>Area: &lt;br /&gt;This is the eye of Cph. right betw...</td>\n",
       "      <td>https://a0.muscache.com/pictures/hosting/Hosti...</td>\n",
       "      <td>122489</td>\n",
       "      <td>...</td>\n",
       "      <td>5.00</td>\n",
       "      <td>4.93</td>\n",
       "      <td>4.89</td>\n",
       "      <td>NaN</td>\n",
       "      <td>f</td>\n",
       "      <td>1</td>\n",
       "      <td>1</td>\n",
       "      <td>0</td>\n",
       "      <td>0</td>\n",
       "      <td>0.20</td>\n",
       "    </tr>\n",
       "    <tr>\n",
       "      <th>...</th>\n",
       "      <td>...</td>\n",
       "      <td>...</td>\n",
       "      <td>...</td>\n",
       "      <td>...</td>\n",
       "      <td>...</td>\n",
       "      <td>...</td>\n",
       "      <td>...</td>\n",
       "      <td>...</td>\n",
       "      <td>...</td>\n",
       "      <td>...</td>\n",
       "      <td>...</td>\n",
       "      <td>...</td>\n",
       "      <td>...</td>\n",
       "      <td>...</td>\n",
       "      <td>...</td>\n",
       "      <td>...</td>\n",
       "      <td>...</td>\n",
       "      <td>...</td>\n",
       "      <td>...</td>\n",
       "      <td>...</td>\n",
       "      <td>...</td>\n",
       "    </tr>\n",
       "    <tr>\n",
       "      <th>21523</th>\n",
       "      <td>1254352491146003413</td>\n",
       "      <td>https://www.airbnb.com/rooms/1254352491146003413</td>\n",
       "      <td>20240928011742</td>\n",
       "      <td>2024-09-28</td>\n",
       "      <td>city scrape</td>\n",
       "      <td>Charming apartment by the lakes</td>\n",
       "      <td>In this stylish and well-appointed apartment, ...</td>\n",
       "      <td>NaN</td>\n",
       "      <td>https://a0.muscache.com/pictures/miso/Hosting-...</td>\n",
       "      <td>42889681</td>\n",
       "      <td>...</td>\n",
       "      <td>NaN</td>\n",
       "      <td>NaN</td>\n",
       "      <td>NaN</td>\n",
       "      <td>NaN</td>\n",
       "      <td>f</td>\n",
       "      <td>1</td>\n",
       "      <td>1</td>\n",
       "      <td>0</td>\n",
       "      <td>0</td>\n",
       "      <td>NaN</td>\n",
       "    </tr>\n",
       "    <tr>\n",
       "      <th>21524</th>\n",
       "      <td>1254371849913458686</td>\n",
       "      <td>https://www.airbnb.com/rooms/1254371849913458686</td>\n",
       "      <td>20240928011742</td>\n",
       "      <td>2024-09-28</td>\n",
       "      <td>city scrape</td>\n",
       "      <td>Bright and Spacious apartment</td>\n",
       "      <td>Bright and spacious apartment - close to inner...</td>\n",
       "      <td>NaN</td>\n",
       "      <td>https://a0.muscache.com/pictures/miso/Hosting-...</td>\n",
       "      <td>59129681</td>\n",
       "      <td>...</td>\n",
       "      <td>NaN</td>\n",
       "      <td>NaN</td>\n",
       "      <td>NaN</td>\n",
       "      <td>NaN</td>\n",
       "      <td>f</td>\n",
       "      <td>1</td>\n",
       "      <td>1</td>\n",
       "      <td>0</td>\n",
       "      <td>0</td>\n",
       "      <td>NaN</td>\n",
       "    </tr>\n",
       "    <tr>\n",
       "      <th>21525</th>\n",
       "      <td>1254443354802103518</td>\n",
       "      <td>https://www.airbnb.com/rooms/1254443354802103518</td>\n",
       "      <td>20240928011742</td>\n",
       "      <td>2024-09-28</td>\n",
       "      <td>city scrape</td>\n",
       "      <td>Moderne lejlighed i København</td>\n",
       "      <td>Here is plenty of room for the family, while y...</td>\n",
       "      <td>NaN</td>\n",
       "      <td>https://a0.muscache.com/pictures/hosting/Hosti...</td>\n",
       "      <td>39716311</td>\n",
       "      <td>...</td>\n",
       "      <td>NaN</td>\n",
       "      <td>NaN</td>\n",
       "      <td>NaN</td>\n",
       "      <td>NaN</td>\n",
       "      <td>t</td>\n",
       "      <td>1</td>\n",
       "      <td>1</td>\n",
       "      <td>0</td>\n",
       "      <td>0</td>\n",
       "      <td>NaN</td>\n",
       "    </tr>\n",
       "    <tr>\n",
       "      <th>21526</th>\n",
       "      <td>1254466883779639579</td>\n",
       "      <td>https://www.airbnb.com/rooms/1254466883779639579</td>\n",
       "      <td>20240928011742</td>\n",
       "      <td>2024-09-28</td>\n",
       "      <td>city scrape</td>\n",
       "      <td>Hyggelig lejlighed i København</td>\n",
       "      <td>Cozy apartment with good space. The apartment ...</td>\n",
       "      <td>NaN</td>\n",
       "      <td>https://a0.muscache.com/pictures/hosting/Hosti...</td>\n",
       "      <td>483034715</td>\n",
       "      <td>...</td>\n",
       "      <td>NaN</td>\n",
       "      <td>NaN</td>\n",
       "      <td>NaN</td>\n",
       "      <td>NaN</td>\n",
       "      <td>f</td>\n",
       "      <td>1</td>\n",
       "      <td>0</td>\n",
       "      <td>1</td>\n",
       "      <td>0</td>\n",
       "      <td>NaN</td>\n",
       "    </tr>\n",
       "    <tr>\n",
       "      <th>21527</th>\n",
       "      <td>1254482947003433117</td>\n",
       "      <td>https://www.airbnb.com/rooms/1254482947003433117</td>\n",
       "      <td>20240928011742</td>\n",
       "      <td>2024-09-28</td>\n",
       "      <td>city scrape</td>\n",
       "      <td>Hel lejlighed + gratis parkering</td>\n",
       "      <td>Enjoy the simple life of this peaceful and cen...</td>\n",
       "      <td>NaN</td>\n",
       "      <td>https://a0.muscache.com/pictures/hosting/Hosti...</td>\n",
       "      <td>548664336</td>\n",
       "      <td>...</td>\n",
       "      <td>NaN</td>\n",
       "      <td>NaN</td>\n",
       "      <td>NaN</td>\n",
       "      <td>NaN</td>\n",
       "      <td>f</td>\n",
       "      <td>1</td>\n",
       "      <td>1</td>\n",
       "      <td>0</td>\n",
       "      <td>0</td>\n",
       "      <td>NaN</td>\n",
       "    </tr>\n",
       "  </tbody>\n",
       "</table>\n",
       "<p>21528 rows × 75 columns</p>\n",
       "</div>"
      ],
      "text/plain": [
       "                        id                                       listing_url  \\\n",
       "0                   338928               https://www.airbnb.com/rooms/338928   \n",
       "1                    31094                https://www.airbnb.com/rooms/31094   \n",
       "2                    32379                https://www.airbnb.com/rooms/32379   \n",
       "3                    32841                https://www.airbnb.com/rooms/32841   \n",
       "4                    38499                https://www.airbnb.com/rooms/38499   \n",
       "...                    ...                                               ...   \n",
       "21523  1254352491146003413  https://www.airbnb.com/rooms/1254352491146003413   \n",
       "21524  1254371849913458686  https://www.airbnb.com/rooms/1254371849913458686   \n",
       "21525  1254443354802103518  https://www.airbnb.com/rooms/1254443354802103518   \n",
       "21526  1254466883779639579  https://www.airbnb.com/rooms/1254466883779639579   \n",
       "21527  1254482947003433117  https://www.airbnb.com/rooms/1254482947003433117   \n",
       "\n",
       "            scrape_id last_scraped           source  \\\n",
       "0      20240928011742   2024-09-28  previous scrape   \n",
       "1      20240928011742   2024-09-28  previous scrape   \n",
       "2      20240928011742   2024-09-28  previous scrape   \n",
       "3      20240928011742   2024-09-28  previous scrape   \n",
       "4      20240928011742   2024-09-28      city scrape   \n",
       "...               ...          ...              ...   \n",
       "21523  20240928011742   2024-09-28      city scrape   \n",
       "21524  20240928011742   2024-09-28      city scrape   \n",
       "21525  20240928011742   2024-09-28      city scrape   \n",
       "21526  20240928011742   2024-09-28      city scrape   \n",
       "21527  20240928011742   2024-09-28      city scrape   \n",
       "\n",
       "                                                    name  \\\n",
       "0                   Art&Design apt in hip Nørrebro - 2BR   \n",
       "1      Beautiful, spacious, central, renovated Penthouse   \n",
       "2      155 m2 artist flat on Vesterbro, with 2 bathrooms   \n",
       "3                    Cozy flat for Adults/Quiet for kids   \n",
       "4                         0 min. from everything in Cph.   \n",
       "...                                                  ...   \n",
       "21523                    Charming apartment by the lakes   \n",
       "21524                      Bright and Spacious apartment   \n",
       "21525                      Moderne lejlighed i København   \n",
       "21526                     Hyggelig lejlighed i København   \n",
       "21527                   Hel lejlighed + gratis parkering   \n",
       "\n",
       "                                             description  \\\n",
       "0      Bright, cozy, and well-furnished 3rd floor des...   \n",
       "1      Welcome to our home, we hope you will enjoy Wo...   \n",
       "2      You enter a narrow entrance and feel the good ...   \n",
       "3      Our flat is placed in a Central AND Quiet neig...   \n",
       "4      It doesn't get more central than this. Histori...   \n",
       "...                                                  ...   \n",
       "21523  In this stylish and well-appointed apartment, ...   \n",
       "21524  Bright and spacious apartment - close to inner...   \n",
       "21525  Here is plenty of room for the family, while y...   \n",
       "21526  Cozy apartment with good space. The apartment ...   \n",
       "21527  Enjoy the simple life of this peaceful and cen...   \n",
       "\n",
       "                                   neighborhood_overview  \\\n",
       "0      The apartment is located in trendy Nørrebro wi...   \n",
       "1      What else is nearby?<br />To be honest, We thi...   \n",
       "2      Værnedamsvej area is super hip area, we call i...   \n",
       "3                                                    NaN   \n",
       "4      Area: <br />This is the eye of Cph. right betw...   \n",
       "...                                                  ...   \n",
       "21523                                                NaN   \n",
       "21524                                                NaN   \n",
       "21525                                                NaN   \n",
       "21526                                                NaN   \n",
       "21527                                                NaN   \n",
       "\n",
       "                                             picture_url    host_id  ...  \\\n",
       "0      https://a0.muscache.com/pictures/35e8972e-36a9...     113348  ...   \n",
       "1      https://a0.muscache.com/pictures/miso/Hosting-...     129976  ...   \n",
       "2      https://a0.muscache.com/pictures/miso/Hosting-...     140105  ...   \n",
       "3      https://a0.muscache.com/pictures/28047599/8efd...     142143  ...   \n",
       "4      https://a0.muscache.com/pictures/hosting/Hosti...     122489  ...   \n",
       "...                                                  ...        ...  ...   \n",
       "21523  https://a0.muscache.com/pictures/miso/Hosting-...   42889681  ...   \n",
       "21524  https://a0.muscache.com/pictures/miso/Hosting-...   59129681  ...   \n",
       "21525  https://a0.muscache.com/pictures/hosting/Hosti...   39716311  ...   \n",
       "21526  https://a0.muscache.com/pictures/hosting/Hosti...  483034715  ...   \n",
       "21527  https://a0.muscache.com/pictures/hosting/Hosti...  548664336  ...   \n",
       "\n",
       "      review_scores_communication review_scores_location review_scores_value  \\\n",
       "0                            4.95                   4.90                4.79   \n",
       "1                            4.82                   4.80                4.53   \n",
       "2                            4.91                   4.89                4.71   \n",
       "3                            5.00                   4.50                4.50   \n",
       "4                            5.00                   4.93                4.89   \n",
       "...                           ...                    ...                 ...   \n",
       "21523                         NaN                    NaN                 NaN   \n",
       "21524                         NaN                    NaN                 NaN   \n",
       "21525                         NaN                    NaN                 NaN   \n",
       "21526                         NaN                    NaN                 NaN   \n",
       "21527                         NaN                    NaN                 NaN   \n",
       "\n",
       "      license instant_bookable calculated_host_listings_count  \\\n",
       "0         NaN                f                              1   \n",
       "1         NaN                f                              1   \n",
       "2         NaN                f                              2   \n",
       "3         NaN                f                              1   \n",
       "4         NaN                f                              1   \n",
       "...       ...              ...                            ...   \n",
       "21523     NaN                f                              1   \n",
       "21524     NaN                f                              1   \n",
       "21525     NaN                t                              1   \n",
       "21526     NaN                f                              1   \n",
       "21527     NaN                f                              1   \n",
       "\n",
       "      calculated_host_listings_count_entire_homes  \\\n",
       "0                                               1   \n",
       "1                                               1   \n",
       "2                                               1   \n",
       "3                                               1   \n",
       "4                                               1   \n",
       "...                                           ...   \n",
       "21523                                           1   \n",
       "21524                                           1   \n",
       "21525                                           1   \n",
       "21526                                           0   \n",
       "21527                                           1   \n",
       "\n",
       "      calculated_host_listings_count_private_rooms  \\\n",
       "0                                                0   \n",
       "1                                                0   \n",
       "2                                                1   \n",
       "3                                                0   \n",
       "4                                                0   \n",
       "...                                            ...   \n",
       "21523                                            0   \n",
       "21524                                            0   \n",
       "21525                                            0   \n",
       "21526                                            1   \n",
       "21527                                            0   \n",
       "\n",
       "      calculated_host_listings_count_shared_rooms reviews_per_month  \n",
       "0                                               0              0.66  \n",
       "1                                               0              0.11  \n",
       "2                                               0              0.48  \n",
       "3                                               0              0.04  \n",
       "4                                               0              0.20  \n",
       "...                                           ...               ...  \n",
       "21523                                           0               NaN  \n",
       "21524                                           0               NaN  \n",
       "21525                                           0               NaN  \n",
       "21526                                           0               NaN  \n",
       "21527                                           0               NaN  \n",
       "\n",
       "[21528 rows x 75 columns]"
      ]
     },
     "execution_count": 9,
     "metadata": {},
     "output_type": "execute_result"
    }
   ],
   "source": [
    "data1=pd.read_csv('Copehnague.csv')\n",
    "data1"
   ]
  },
  {
   "cell_type": "code",
   "execution_count": 10,
   "metadata": {},
   "outputs": [],
   "source": [
    "data2=data1.copy()"
   ]
  },
  {
   "cell_type": "code",
   "execution_count": 11,
   "metadata": {},
   "outputs": [],
   "source": [
    "data2 = data2.drop(columns=[\"id\", \"listing_url\", \"scrape_id\", \"source\", \"picture_url\", \"host_id\", \"host_url\", \"host_name\",\"host_since\",\"host_about\",\"host_thumbnail_url\",\"host_picture_url\",\"host_neighbourhood\",\"host_listings_count\",\"host_total_listings_count\",\"neighbourhood_group_cleansed\",\"calendar_last_scraped\",\"first_review\",\"review_scores_accuracy\",\"license\",\"calculated_host_listings_count\",\"calculated_host_listings_count_entire_homes\",\"calculated_host_listings_count_private_rooms\",\"calculated_host_listings_count_shared_rooms\"])"
   ]
  },
  {
   "cell_type": "code",
   "execution_count": 12,
   "metadata": {},
   "outputs": [
    {
     "name": "stdout",
     "output_type": "stream",
     "text": [
      "<class 'pandas.core.frame.DataFrame'>\n",
      "RangeIndex: 21528 entries, 0 to 21527\n",
      "Data columns (total 51 columns):\n",
      " #   Column                       Non-Null Count  Dtype  \n",
      "---  ------                       --------------  -----  \n",
      " 0   last_scraped                 21528 non-null  object \n",
      " 1   name                         21528 non-null  object \n",
      " 2   description                  20828 non-null  object \n",
      " 3   neighborhood_overview        8731 non-null   object \n",
      " 4   host_location                18076 non-null  object \n",
      " 5   host_response_time           14058 non-null  object \n",
      " 6   host_response_rate           14058 non-null  object \n",
      " 7   host_acceptance_rate         17163 non-null  object \n",
      " 8   host_is_superhost            21310 non-null  object \n",
      " 9   host_verifications           21527 non-null  object \n",
      " 10  host_has_profile_pic         21527 non-null  object \n",
      " 11  host_identity_verified       21527 non-null  object \n",
      " 12  neighbourhood                8731 non-null   object \n",
      " 13  neighbourhood_cleansed       21528 non-null  object \n",
      " 14  latitude                     21528 non-null  float64\n",
      " 15  longitude                    21528 non-null  float64\n",
      " 16  property_type                21528 non-null  object \n",
      " 17  room_type                    21528 non-null  object \n",
      " 18  accommodates                 21528 non-null  int64  \n",
      " 19  bathrooms                    13095 non-null  float64\n",
      " 20  bathrooms_text               21522 non-null  object \n",
      " 21  bedrooms                     20855 non-null  float64\n",
      " 22  beds                         13091 non-null  float64\n",
      " 23  amenities                    21528 non-null  object \n",
      " 24  price                        13098 non-null  object \n",
      " 25  minimum_nights               21528 non-null  int64  \n",
      " 26  maximum_nights               21528 non-null  int64  \n",
      " 27  minimum_minimum_nights       21528 non-null  int64  \n",
      " 28  maximum_minimum_nights       21528 non-null  int64  \n",
      " 29  minimum_maximum_nights       21528 non-null  int64  \n",
      " 30  maximum_maximum_nights       21528 non-null  int64  \n",
      " 31  minimum_nights_avg_ntm       21528 non-null  float64\n",
      " 32  maximum_nights_avg_ntm       21528 non-null  float64\n",
      " 33  calendar_updated             0 non-null      float64\n",
      " 34  has_availability             21105 non-null  object \n",
      " 35  availability_30              21528 non-null  int64  \n",
      " 36  availability_60              21528 non-null  int64  \n",
      " 37  availability_90              21528 non-null  int64  \n",
      " 38  availability_365             21528 non-null  int64  \n",
      " 39  number_of_reviews            21528 non-null  int64  \n",
      " 40  number_of_reviews_ltm        21528 non-null  int64  \n",
      " 41  number_of_reviews_l30d       21528 non-null  int64  \n",
      " 42  last_review                  19100 non-null  object \n",
      " 43  review_scores_rating         19100 non-null  float64\n",
      " 44  review_scores_cleanliness    19099 non-null  float64\n",
      " 45  review_scores_checkin        19099 non-null  float64\n",
      " 46  review_scores_communication  19099 non-null  float64\n",
      " 47  review_scores_location       19098 non-null  float64\n",
      " 48  review_scores_value          19099 non-null  float64\n",
      " 49  instant_bookable             21528 non-null  object \n",
      " 50  reviews_per_month            19100 non-null  float64\n",
      "dtypes: float64(15), int64(14), object(22)\n",
      "memory usage: 8.4+ MB\n"
     ]
    }
   ],
   "source": [
    "data2.info()"
   ]
  },
  {
   "cell_type": "code",
   "execution_count": 79,
   "metadata": {},
   "outputs": [
    {
     "data": {
      "text/plain": [
       "last_scraped                   0\n",
       "name                           0\n",
       "description                    0\n",
       "neighborhood_overview          0\n",
       "host_location                  0\n",
       "host_response_time             0\n",
       "host_response_rate             0\n",
       "host_acceptance_rate           0\n",
       "host_is_superhost              0\n",
       "host_verifications             0\n",
       "host_has_profile_pic           0\n",
       "host_identity_verified         0\n",
       "neighbourhood                  0\n",
       "neighbourhood_cleansed         0\n",
       "latitude                       0\n",
       "longitude                      0\n",
       "property_type                  0\n",
       "room_type                      0\n",
       "accommodates                   0\n",
       "bathrooms                      0\n",
       "bathrooms_text                 0\n",
       "bedrooms                       0\n",
       "beds                           0\n",
       "amenities                      0\n",
       "price                          0\n",
       "minimum_nights                 0\n",
       "maximum_nights                 0\n",
       "minimum_minimum_nights         0\n",
       "maximum_minimum_nights         0\n",
       "minimum_maximum_nights         0\n",
       "maximum_maximum_nights         0\n",
       "minimum_nights_avg_ntm         0\n",
       "maximum_nights_avg_ntm         0\n",
       "calendar_updated               0\n",
       "has_availability               0\n",
       "availability_30                0\n",
       "availability_60                0\n",
       "availability_90                0\n",
       "availability_365               0\n",
       "number_of_reviews              0\n",
       "number_of_reviews_ltm          0\n",
       "number_of_reviews_l30d         0\n",
       "last_review                    0\n",
       "review_scores_rating           0\n",
       "review_scores_cleanliness      0\n",
       "review_scores_checkin          0\n",
       "review_scores_communication    0\n",
       "review_scores_location         0\n",
       "review_scores_value            0\n",
       "instant_bookable               0\n",
       "reviews_per_month              0\n",
       "dtype: int64"
      ]
     },
     "execution_count": 79,
     "metadata": {},
     "output_type": "execute_result"
    }
   ],
   "source": [
    "valores_nulos=data2.isnull().sum()          \n",
    "valores_nulos"
   ]
  },
  {
   "cell_type": "code",
   "execution_count": 14,
   "metadata": {},
   "outputs": [],
   "source": [
    "valores_nulos.to_csv(\"valores_nulos\")"
   ]
  },
  {
   "cell_type": "code",
   "execution_count": 15,
   "metadata": {},
   "outputs": [],
   "source": [
    "#METODO4\n",
    "#Sustituir valores nulos con un string ya que la variables es una descripción abierta y no estandarizada\n",
    "data2[\"description\"]=data2[\"description\"].fillna(\"description without infomaton\")"
   ]
  },
  {
   "cell_type": "code",
   "execution_count": 16,
   "metadata": {},
   "outputs": [],
   "source": [
    "#METODO4\n",
    "#Sustituir valores nulos con un string ya que la variables es una descripción abierta y no estandarizada\n",
    "data2[\"neighborhood_overview\"]=data2[\"neighborhood_overview\"].fillna(\"no neighborhood overview\")"
   ]
  },
  {
   "cell_type": "code",
   "execution_count": 17,
   "metadata": {},
   "outputs": [],
   "source": [
    "#METODO4\n",
    "#Sustituir valores nulos con un string establecido ya que la mayoria de los host_location pertenecen a la misma ciudad/país\n",
    "data2[\"host_location\"]=data2[\"host_location\"].fillna(\"Copehnague\")"
   ]
  },
  {
   "cell_type": "code",
   "execution_count": 18,
   "metadata": {},
   "outputs": [],
   "source": [
    "#METODO4\n",
    "#Se coloca el tiempo maximo que alguien puede tardar en contestar ya que no afecta a la respuesta en la app, es decir, puede tardar menos de ello y se consideraria \"mejor\" pero no \"peor\"\n",
    "data2[\"host_response_time\"]=data2[\"host_response_time\"].fillna(\"a few days or more\")"
   ]
  },
  {
   "cell_type": "code",
   "execution_count": 19,
   "metadata": {},
   "outputs": [],
   "source": [
    "#METODO1\n",
    "#Sustiruye los valores nulos por el promedio para mantener las estadisticas similares \n",
    "\n",
    "#Eliminar caracteres no numéricos (como '%', espacios, etc.)\n",
    "data2['host_response_rate'] = data2['host_response_rate'].str.replace('%', '').str.strip()\n",
    "\n",
    "#Convertir la columna a tipo float (porque es posible que haya valores decimales)\n",
    "data2['host_response_rate'] = pd.to_numeric(data2['host_response_rate'], errors='coerce')\n",
    "data2['host_response_rate']=data2['host_response_rate'].fillna(round(data2 ['host_response_rate'].mean(),0))"
   ]
  },
  {
   "cell_type": "code",
   "execution_count": 24,
   "metadata": {},
   "outputs": [
    {
     "name": "stdout",
     "output_type": "stream",
     "text": [
      "object\n"
     ]
    }
   ],
   "source": [
    "print(data2[\"host_acceptance_rate\"].dtypes)"
   ]
  },
  {
   "cell_type": "code",
   "execution_count": 25,
   "metadata": {},
   "outputs": [],
   "source": [
    "#METODO1\n",
    "#Sustiruye los valores nulos por el promedio para mantener las estadisticas similares \n",
    "\n",
    "#Eliminar caracteres no numéricos (como '%', espacios, etc.)\n",
    "data2['host_acceptance_rate'] = data2['host_acceptance_rate'].str.replace('%', '').str.strip()\n",
    "\n",
    "#Convertir la columna a tipo float (porque es posible que haya valores decimales)\n",
    "data2['host_acceptance_rate'] = pd.to_numeric(data2['host_acceptance_rate'], errors='coerce')\n",
    "data2['host_acceptance_rate']=data2['host_acceptance_rate'].fillna(round(data2 ['host_acceptance_rate'].mean(),0))"
   ]
  },
  {
   "cell_type": "code",
   "execution_count": 27,
   "metadata": {},
   "outputs": [],
   "source": [
    "#METODO4\n",
    "#Sustituir valores nulos con un string al ser de respuesta boleana pero de tipo objeto\n",
    "data2[\"host_is_superhost\"]=data2[\"host_is_superhost\"].fillna(\"f\")"
   ]
  },
  {
   "cell_type": "code",
   "execution_count": 30,
   "metadata": {},
   "outputs": [
    {
     "name": "stderr",
     "output_type": "stream",
     "text": [
      "C:\\Users\\blanf\\AppData\\Local\\Temp\\ipykernel_21500\\680659082.py:3: FutureWarning: Series.fillna with 'method' is deprecated and will raise in a future version. Use obj.ffill() or obj.bfill() instead.\n",
      "  data2[\"host_verifications\"]=data2[\"host_verifications\"].fillna(method=\"ffill\")\n"
     ]
    }
   ],
   "source": [
    "#METODO5\n",
    "#Sustituye el valor nulo por el valor de la celda anterior, pues al ser un único valor no afecta el resultado estadisticamente\n",
    "data2[\"host_verifications\"]=data2[\"host_verifications\"].fillna(method=\"ffill\")"
   ]
  },
  {
   "cell_type": "code",
   "execution_count": 31,
   "metadata": {},
   "outputs": [
    {
     "name": "stderr",
     "output_type": "stream",
     "text": [
      "C:\\Users\\blanf\\AppData\\Local\\Temp\\ipykernel_21500\\1857176685.py:3: FutureWarning: Series.fillna with 'method' is deprecated and will raise in a future version. Use obj.ffill() or obj.bfill() instead.\n",
      "  data2[\"host_has_profile_pic\"]=data2[\"host_has_profile_pic\"].fillna(method=\"ffill\")\n"
     ]
    }
   ],
   "source": [
    "#METODO5\n",
    "#Sustituye el valor nulo por el valor de la celda anterior, pues al ser un único valor no afecta el resultado estadisticamente\n",
    "data2[\"host_has_profile_pic\"]=data2[\"host_has_profile_pic\"].fillna(method=\"ffill\")"
   ]
  },
  {
   "cell_type": "code",
   "execution_count": 32,
   "metadata": {},
   "outputs": [
    {
     "name": "stderr",
     "output_type": "stream",
     "text": [
      "C:\\Users\\blanf\\AppData\\Local\\Temp\\ipykernel_21500\\3508659970.py:3: FutureWarning: Series.fillna with 'method' is deprecated and will raise in a future version. Use obj.ffill() or obj.bfill() instead.\n",
      "  data2[\"host_identity_verified\"]=data2[\"host_identity_verified\"].fillna(method=\"ffill\")\n"
     ]
    }
   ],
   "source": [
    "#METODO5\n",
    "#Sustituye el valor nulo por el valor de la celda anterior, pues al ser un único valor no afecta el resultado estadisticamente\n",
    "data2[\"host_identity_verified\"]=data2[\"host_identity_verified\"].fillna(method=\"ffill\")"
   ]
  },
  {
   "cell_type": "code",
   "execution_count": null,
   "metadata": {},
   "outputs": [],
   "source": [
    "#METODO4\n",
    "#Sustituir valores nulos con un string y se coloca Copehnague de manera generalizada\n",
    "data2[\"neighbourhood\"]=data2[\"neighbourhood\"].fillna(\"Copehnague\")"
   ]
  },
  {
   "cell_type": "code",
   "execution_count": 37,
   "metadata": {},
   "outputs": [],
   "source": [
    "#METODO3\n",
    "#Rellena  con un valor númerico, en este caso 1, ya que todos cuentan con al mneos un baño\n",
    "data2['bathrooms']=data2['bathrooms'].fillna(1)"
   ]
  },
  {
   "cell_type": "code",
   "execution_count": 38,
   "metadata": {},
   "outputs": [],
   "source": [
    "#METODO4\n",
    "#Sustituir valores nulos con un string en este caso, 1 bath como preestablecido\n",
    "data2[\"bathrooms_text\"]=data2[\"bathrooms_text\"].fillna(\"1 bath\")"
   ]
  },
  {
   "cell_type": "code",
   "execution_count": 42,
   "metadata": {},
   "outputs": [],
   "source": [
    "#METODO3\n",
    "#Rellena  con un valor númerico, en este caso 1, ya que todos cuentan con al mneos un cuarto\n",
    "data2['bedrooms']=data2['bedrooms'].fillna(1)"
   ]
  },
  {
   "cell_type": "code",
   "execution_count": 39,
   "metadata": {},
   "outputs": [],
   "source": [
    "#METODO3\n",
    "#Rellena  con un valor númerico, en este caso 1, ya que todos cuentan con al mneos una cama\n",
    "data2['beds']=data2['beds'].fillna(1)"
   ]
  },
  {
   "cell_type": "code",
   "execution_count": 44,
   "metadata": {},
   "outputs": [],
   "source": [
    "valores_nulos=data2.isnull().sum()          \n",
    "valores_nulos.to_csv(\"aux1\")"
   ]
  },
  {
   "cell_type": "code",
   "execution_count": 46,
   "metadata": {},
   "outputs": [
    {
     "name": "stdout",
     "output_type": "stream",
     "text": [
      "object\n"
     ]
    }
   ],
   "source": [
    "print(data2[\"price\"].dtypes)"
   ]
  },
  {
   "cell_type": "code",
   "execution_count": 80,
   "metadata": {},
   "outputs": [],
   "source": [
    "#Se utilizo el metodos de sustitucion de un entero ya que toda la columna se encontraba vacia, asignandole un valor estandarizado\n",
    "data2['price']=data2['price'].fillna(100)"
   ]
  },
  {
   "cell_type": "code",
   "execution_count": 52,
   "metadata": {},
   "outputs": [],
   "source": [
    "#METODO3\n",
    "#Rellena  con un valor númerico 0, ya que toda la columna se encuentra vacia y es de tipo float\n",
    "data2['calendar_updated']=data2['calendar_updated'].fillna(0)"
   ]
  },
  {
   "cell_type": "code",
   "execution_count": 53,
   "metadata": {},
   "outputs": [],
   "source": [
    "#METODO4\n",
    "#Sustituir valores nulos con un string f =false ya que al no tener respuesta, no se puede suponer un verdadero\n",
    "data2[\"has_availability\"]=data2[\"has_availability\"].fillna(\"f\")"
   ]
  },
  {
   "cell_type": "code",
   "execution_count": 54,
   "metadata": {},
   "outputs": [],
   "source": [
    "#METODO4\n",
    "#Sustituir valores nulos con una fecha de valor nulo\n",
    "data2[\"last_review\"]=data2[\"last_review\"].fillna(\"2020-00-00\")"
   ]
  },
  {
   "cell_type": "code",
   "execution_count": 65,
   "metadata": {},
   "outputs": [],
   "source": [
    "#METODO1\n",
    "#Sustiruye los valores nulos porla mediana manteniendo las estadisticas con distribucion normal de los reviws ajustadas\n",
    "data2['review_scores_rating']=data2['review_scores_rating'].fillna(round(data2 ['review_scores_rating'].median(),2))"
   ]
  },
  {
   "cell_type": "code",
   "execution_count": 66,
   "metadata": {},
   "outputs": [],
   "source": [
    "#METODO1\n",
    "#Sustiruye los valores nulos porla mediana manteniendo las estadisticas con distribucion normal de los reviws ajustadas\n",
    "data2['review_scores_cleanliness']=data2['review_scores_cleanliness'].fillna(round(data2 ['review_scores_cleanliness'].median(),2))"
   ]
  },
  {
   "cell_type": "code",
   "execution_count": 67,
   "metadata": {},
   "outputs": [],
   "source": [
    "#METODO1\n",
    "#Sustiruye los valores nulos porla mediana manteniendo las estadisticas con distribucion normal de los reviws ajustadas\n",
    "data2['review_scores_checkin']=data2['review_scores_checkin'].fillna(round(data2 ['review_scores_checkin'].median(),2))"
   ]
  },
  {
   "cell_type": "code",
   "execution_count": 68,
   "metadata": {},
   "outputs": [],
   "source": [
    "#METODO1\n",
    "#Sustiruye los valores nulos porla mediana manteniendo las estadisticas con distribucion normal de los reviws ajustadas\n",
    "data2['review_scores_communication']=data2['review_scores_communication'].fillna(round(data2 ['review_scores_communication'].median(),2))"
   ]
  },
  {
   "cell_type": "code",
   "execution_count": 69,
   "metadata": {},
   "outputs": [],
   "source": [
    "#METODO1\n",
    "#Sustiruye los valores nulos porla mediana manteniendo las estadisticas con distribucion normal de los reviws ajustadas\n",
    "data2['review_scores_location']=data2['review_scores_location'].fillna(round(data2 ['review_scores_location'].median(),2))"
   ]
  },
  {
   "cell_type": "code",
   "execution_count": 70,
   "metadata": {},
   "outputs": [],
   "source": [
    "#METODO1\n",
    "#Sustiruye los valores nulos porla mediana manteniendo las estadisticas con distribucion normal de los reviws ajustadas\n",
    "data2['review_scores_value']=data2['review_scores_value'].fillna(round(data2 ['review_scores_value'].median(),2))"
   ]
  },
  {
   "cell_type": "code",
   "execution_count": 71,
   "metadata": {},
   "outputs": [],
   "source": [
    "#METODO1\n",
    "#Sustiruye los valores nulos porla mediana manteniendo las estadisticas con distribucion normal de los reviws ajustadas\n",
    "data2['reviews_per_month']=data2['reviews_per_month'].fillna(round(data2 ['reviews_per_month'].median(),2))"
   ]
  },
  {
   "cell_type": "code",
   "execution_count": 82,
   "metadata": {},
   "outputs": [
    {
     "data": {
      "text/plain": [
       "np.int64(0)"
      ]
     },
     "execution_count": 82,
     "metadata": {},
     "output_type": "execute_result"
    }
   ],
   "source": [
    "valores_nulos=data2.isnull().sum().sum()          \n",
    "valores_nulos"
   ]
  }
 ],
 "metadata": {
  "kernelspec": {
   "display_name": "Python 3",
   "language": "python",
   "name": "python3"
  },
  "language_info": {
   "codemirror_mode": {
    "name": "ipython",
    "version": 3
   },
   "file_extension": ".py",
   "mimetype": "text/x-python",
   "name": "python",
   "nbconvert_exporter": "python",
   "pygments_lexer": "ipython3",
   "version": "3.13.1"
  }
 },
 "nbformat": 4,
 "nbformat_minor": 2
}
