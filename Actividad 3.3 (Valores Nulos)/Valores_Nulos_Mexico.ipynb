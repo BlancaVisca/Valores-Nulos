{
 "cells": [
  {
   "cell_type": "markdown",
   "metadata": {},
   "source": [
    "**EXTRACCIÓN DE DATOS DE MÉXICO**"
   ]
  },
  {
   "cell_type": "code",
   "execution_count": 27,
   "metadata": {},
   "outputs": [],
   "source": [
    "import pandas as pd\n",
    "import numpy as np\n",
    "import matplotlib.pyplot as plt"
   ]
  },
  {
   "cell_type": "code",
   "execution_count": 28,
   "metadata": {},
   "outputs": [],
   "source": [
    "data1=pd.read_csv('Mexico.csv')"
   ]
  },
  {
   "cell_type": "code",
   "execution_count": 29,
   "metadata": {},
   "outputs": [],
   "source": [
    "data0=data1.copy()"
   ]
  },
  {
   "cell_type": "code",
   "execution_count": 30,
   "metadata": {},
   "outputs": [],
   "source": [
    "data0 = data0.drop(columns=[\"id\", \"listing_url\", \"scrape_id\", \"source\", \"picture_url\", \"host_id\", \"host_url\", \"host_name\",\"host_since\",\"host_about\",\"host_thumbnail_url\",\"host_picture_url\",\"host_neighbourhood\",\"host_listings_count\",\"host_total_listings_count\",\"neighbourhood_group_cleansed\",\"calendar_last_scraped\",\"first_review\",\"review_scores_accuracy\",\"license\",\"calculated_host_listings_count\",\"calculated_host_listings_count_entire_homes\",\"calculated_host_listings_count_private_rooms\",\"calculated_host_listings_count_shared_rooms\"])"
   ]
  },
  {
   "cell_type": "code",
   "execution_count": 31,
   "metadata": {},
   "outputs": [],
   "source": [
    "data3=data0.copy()"
   ]
  },
  {
   "cell_type": "code",
   "execution_count": 32,
   "metadata": {},
   "outputs": [
    {
     "name": "stdout",
     "output_type": "stream",
     "text": [
      "<class 'pandas.core.frame.DataFrame'>\n",
      "RangeIndex: 26582 entries, 0 to 26581\n",
      "Data columns (total 51 columns):\n",
      " #   Column                       Non-Null Count  Dtype  \n",
      "---  ------                       --------------  -----  \n",
      " 0   last_scraped                 26582 non-null  object \n",
      " 1   name                         26582 non-null  object \n",
      " 2   description                  25649 non-null  object \n",
      " 3   neighborhood_overview        15687 non-null  object \n",
      " 4   host_location                21141 non-null  object \n",
      " 5   host_response_time           22960 non-null  object \n",
      " 6   host_response_rate           22960 non-null  object \n",
      " 7   host_acceptance_rate         23713 non-null  object \n",
      " 8   host_is_superhost            25073 non-null  object \n",
      " 9   host_verifications           26582 non-null  object \n",
      " 10  host_has_profile_pic         26582 non-null  object \n",
      " 11  host_identity_verified       26582 non-null  object \n",
      " 12  neighbourhood                15687 non-null  object \n",
      " 13  neighbourhood_cleansed       26582 non-null  object \n",
      " 14  latitude                     26582 non-null  float64\n",
      " 15  longitude                    26582 non-null  float64\n",
      " 16  property_type                26582 non-null  object \n",
      " 17  room_type                    26582 non-null  object \n",
      " 18  accommodates                 26582 non-null  int64  \n",
      " 19  bathrooms                    23667 non-null  float64\n",
      " 20  bathrooms_text               26556 non-null  object \n",
      " 21  bedrooms                     25716 non-null  float64\n",
      " 22  beds                         23629 non-null  float64\n",
      " 23  amenities                    26582 non-null  object \n",
      " 24  price                        23655 non-null  object \n",
      " 25  minimum_nights               26582 non-null  int64  \n",
      " 26  maximum_nights               26582 non-null  int64  \n",
      " 27  minimum_minimum_nights       26582 non-null  int64  \n",
      " 28  maximum_minimum_nights       26582 non-null  int64  \n",
      " 29  minimum_maximum_nights       26582 non-null  int64  \n",
      " 30  maximum_maximum_nights       26582 non-null  int64  \n",
      " 31  minimum_nights_avg_ntm       26582 non-null  float64\n",
      " 32  maximum_nights_avg_ntm       26582 non-null  float64\n",
      " 33  calendar_updated             0 non-null      float64\n",
      " 34  has_availability             25574 non-null  object \n",
      " 35  availability_30              26582 non-null  int64  \n",
      " 36  availability_60              26582 non-null  int64  \n",
      " 37  availability_90              26582 non-null  int64  \n",
      " 38  availability_365             26582 non-null  int64  \n",
      " 39  number_of_reviews            26582 non-null  int64  \n",
      " 40  number_of_reviews_ltm        26582 non-null  int64  \n",
      " 41  number_of_reviews_l30d       26582 non-null  int64  \n",
      " 42  last_review                  22926 non-null  object \n",
      " 43  review_scores_rating         22926 non-null  float64\n",
      " 44  review_scores_cleanliness    22925 non-null  float64\n",
      " 45  review_scores_checkin        22925 non-null  float64\n",
      " 46  review_scores_communication  22925 non-null  float64\n",
      " 47  review_scores_location       22925 non-null  float64\n",
      " 48  review_scores_value          22925 non-null  float64\n",
      " 49  instant_bookable             26582 non-null  object \n",
      " 50  reviews_per_month            22926 non-null  float64\n",
      "dtypes: float64(15), int64(14), object(22)\n",
      "memory usage: 10.3+ MB\n"
     ]
    }
   ],
   "source": [
    "data0.info()"
   ]
  },
  {
   "cell_type": "code",
   "execution_count": 33,
   "metadata": {},
   "outputs": [],
   "source": [
    "valores_nulos=data0.isnull().sum()          \n",
    "valores_nulos.to_csv(\"Variables_nulas\")"
   ]
  },
  {
   "cell_type": "markdown",
   "metadata": {},
   "source": [
    "**APLICACIÓN DE LOS MÉTODOS**\n"
   ]
  },
  {
   "cell_type": "markdown",
   "metadata": {},
   "source": [
    "description"
   ]
  },
  {
   "cell_type": "code",
   "execution_count": 34,
   "metadata": {},
   "outputs": [],
   "source": [
    "#Sustituir valores nulos con un string ya que la variables es una descripción abierta y no estandarizada\n",
    "data0[\"description\"]=data0[\"description\"].fillna(\"description without infomaton\")"
   ]
  },
  {
   "cell_type": "markdown",
   "metadata": {},
   "source": [
    "neighborhood_overview"
   ]
  },
  {
   "cell_type": "code",
   "execution_count": 35,
   "metadata": {},
   "outputs": [],
   "source": [
    "#Sustituir valores nulos con un string ya que la variables es una descripción abierta y no estandarizada\n",
    "data0[\"neighborhood_overview\"]=data0[\"neighborhood_overview\"].fillna(\"no neighborhood overview\")"
   ]
  },
  {
   "cell_type": "markdown",
   "metadata": {},
   "source": [
    "host_location"
   ]
  },
  {
   "cell_type": "code",
   "execution_count": 36,
   "metadata": {},
   "outputs": [],
   "source": [
    "#Sustituir valores nulos con un string establecido ya que la mayoria de los host_location pertenecen a la misma ciudad/país\n",
    "data0[\"host_location\"]=data0[\"host_location\"].fillna(\"Mexico\")"
   ]
  },
  {
   "cell_type": "markdown",
   "metadata": {},
   "source": [
    "host_response_time"
   ]
  },
  {
   "cell_type": "code",
   "execution_count": 37,
   "metadata": {},
   "outputs": [],
   "source": [
    "#Se coloca el tiempo maximo que alguien puede tardar en contestar ya que no afecta a la respuesta en la app, es decir, puede tardar menos de ello y se consideraria \"mejor\" pero no \"peor\"\n",
    "data0[\"host_response_time\"]=data0[\"host_response_time\"].fillna(\"a few days or more\")"
   ]
  },
  {
   "cell_type": "markdown",
   "metadata": {},
   "source": [
    "host_response_rate"
   ]
  },
  {
   "cell_type": "code",
   "execution_count": 38,
   "metadata": {},
   "outputs": [],
   "source": [
    "#Sustiruye los valores nulos por el promedio para mantener las estadisticas similares \n",
    "\n",
    "#Eliminar caracteres no numéricos (como '%', espacios, etc.)\n",
    "data0['host_response_rate'] = data0['host_response_rate'].str.replace('%', '').str.strip()\n",
    "\n",
    "#Convertir la columna a tipo float (porque es posible que haya valores decimales)\n",
    "data0['host_response_rate'] = pd.to_numeric(data0['host_response_rate'], errors='coerce')\n",
    "data0['host_response_rate']=data0['host_response_rate'].fillna(round(data0 ['host_response_rate'].mean(),0))"
   ]
  },
  {
   "cell_type": "markdown",
   "metadata": {},
   "source": [
    "host_acceptance_rate"
   ]
  },
  {
   "cell_type": "code",
   "execution_count": 39,
   "metadata": {},
   "outputs": [],
   "source": [
    "#Sustiruye los valores nulos por el promedio para mantener las estadisticas similares \n",
    "\n",
    "#Eliminar caracteres no numéricos (como '%', espacios, etc.)\n",
    "data0['host_acceptance_rate'] = data0['host_acceptance_rate'].str.replace('%', '').str.strip()\n",
    "\n",
    "#Convertir la columna a tipo float (porque es posible que haya valores decimales)\n",
    "data0['host_acceptance_rate'] = pd.to_numeric(data0['host_acceptance_rate'], errors='coerce')\n",
    "data0['host_acceptance_rate']=data0['host_acceptance_rate'].fillna(round(data0 ['host_acceptance_rate'].mean(),0))"
   ]
  },
  {
   "cell_type": "markdown",
   "metadata": {},
   "source": [
    "host_is_superhost"
   ]
  },
  {
   "cell_type": "code",
   "execution_count": 40,
   "metadata": {},
   "outputs": [],
   "source": [
    "#Sustituir valores nulos con un string al ser de respuesta boleana pero de tipo objeto\n",
    "data0[\"host_is_superhost\"]=data0[\"host_is_superhost\"].fillna(\"f\")"
   ]
  },
  {
   "cell_type": "markdown",
   "metadata": {},
   "source": [
    "neighbourhood"
   ]
  },
  {
   "cell_type": "code",
   "execution_count": 41,
   "metadata": {},
   "outputs": [],
   "source": [
    "#Sustituir valores nulos con un string y se coloca México de manera generalizada\n",
    "data0[\"neighbourhood\"]=data0[\"neighbourhood\"].fillna(\"México\")"
   ]
  },
  {
   "cell_type": "code",
   "execution_count": 42,
   "metadata": {},
   "outputs": [],
   "source": [
    "#Rellena  con un valor númerico, en este caso 1, ya que todos cuentan con al mneos un baño\n",
    "data0['bathrooms']=data0['bathrooms'].fillna(1)"
   ]
  },
  {
   "cell_type": "markdown",
   "metadata": {},
   "source": [
    "bathrooms"
   ]
  },
  {
   "cell_type": "code",
   "execution_count": 43,
   "metadata": {},
   "outputs": [],
   "source": [
    "#Sustituir valores nulos con un string en este caso, 1 bath como preestablecido\n",
    "data0[\"bathrooms_text\"]=data0[\"bathrooms_text\"].fillna(\"1 bath\")"
   ]
  },
  {
   "cell_type": "markdown",
   "metadata": {},
   "source": [
    "bedrooms"
   ]
  },
  {
   "cell_type": "code",
   "execution_count": 44,
   "metadata": {},
   "outputs": [],
   "source": [
    "#Rellena  con un valor númerico, en este caso 1, ya que todos cuentan con al mneos un cuarto\n",
    "data0['bedrooms']=data0['bedrooms'].fillna(1)"
   ]
  },
  {
   "cell_type": "markdown",
   "metadata": {},
   "source": [
    "beds"
   ]
  },
  {
   "cell_type": "code",
   "execution_count": 45,
   "metadata": {},
   "outputs": [],
   "source": [
    "#Rellena  con un valor númerico, en este caso 1, ya que todos cuentan con al mneos una cama\n",
    "data0['beds']=data0['beds'].fillna(1)"
   ]
  },
  {
   "cell_type": "markdown",
   "metadata": {},
   "source": [
    "price"
   ]
  },
  {
   "cell_type": "code",
   "execution_count": 46,
   "metadata": {},
   "outputs": [],
   "source": [
    "#Se utilizo el metodos de sustitucion de un entero ya que toda la columna se encontraba vacia, asignandole un valor estandarizado\n",
    "data0['price']=data0['price'].fillna(100)"
   ]
  },
  {
   "cell_type": "markdown",
   "metadata": {},
   "source": [
    "calendar_updated"
   ]
  },
  {
   "cell_type": "code",
   "execution_count": 47,
   "metadata": {},
   "outputs": [],
   "source": [
    "#Sustituir valores nulos con una fecha de valor nulo\n",
    "data0[\"calendar_updated\"]=data0[\"calendar_updated\"].fillna(\"0000-00-00\")"
   ]
  },
  {
   "cell_type": "markdown",
   "metadata": {},
   "source": [
    "has_availability"
   ]
  },
  {
   "cell_type": "code",
   "execution_count": 48,
   "metadata": {},
   "outputs": [],
   "source": [
    "#Sustituir valores nulos con un string f =false ya que al no tener respuesta, no se puede suponer un verdadero\n",
    "data0[\"has_availability\"]=data0[\"has_availability\"].fillna(\"f\")"
   ]
  },
  {
   "cell_type": "markdown",
   "metadata": {},
   "source": [
    "last_review"
   ]
  },
  {
   "cell_type": "code",
   "execution_count": 49,
   "metadata": {},
   "outputs": [],
   "source": [
    "#Sustituir valores nulos con una fecha de valor nulo\n",
    "data0[\"last_review\"]=data0[\"last_review\"].fillna(\"0000-00-00\")"
   ]
  },
  {
   "cell_type": "markdown",
   "metadata": {},
   "source": [
    "review_scores_rating"
   ]
  },
  {
   "cell_type": "code",
   "execution_count": 50,
   "metadata": {},
   "outputs": [],
   "source": [
    "#Sustiruye los valores nulos porla mediana manteniendo las estadisticas con distribucion normal de los reviws ajustadas\n",
    "data0['review_scores_rating']=data0['review_scores_rating'].fillna(round(data0 ['review_scores_rating'].median(),2))"
   ]
  },
  {
   "cell_type": "markdown",
   "metadata": {},
   "source": [
    "review_scores_cleanliness"
   ]
  },
  {
   "cell_type": "code",
   "execution_count": 51,
   "metadata": {},
   "outputs": [],
   "source": [
    "#Sustiruye los valores nulos porla mediana manteniendo las estadisticas con distribucion normal de los reviws ajustadas\n",
    "data0['review_scores_cleanliness']=data0['review_scores_cleanliness'].fillna(round(data0 ['review_scores_cleanliness'].median(),2))"
   ]
  },
  {
   "cell_type": "markdown",
   "metadata": {},
   "source": [
    "review_scores_checkin"
   ]
  },
  {
   "cell_type": "code",
   "execution_count": 52,
   "metadata": {},
   "outputs": [],
   "source": [
    "#Sustiruye los valores nulos porla mediana manteniendo las estadisticas con distribucion normal de los reviws ajustadas\n",
    "data0['review_scores_checkin']=data0['review_scores_checkin'].fillna(round(data0 ['review_scores_checkin'].median(),2))"
   ]
  },
  {
   "cell_type": "markdown",
   "metadata": {},
   "source": [
    "review_scores_communication"
   ]
  },
  {
   "cell_type": "code",
   "execution_count": 53,
   "metadata": {},
   "outputs": [],
   "source": [
    "#Sustiruye los valores nulos porla mediana manteniendo las estadisticas con distribucion normal de los reviws ajustadas\n",
    "data0['review_scores_communication']=data0['review_scores_communication'].fillna(round(data0 ['review_scores_communication'].median(),2))"
   ]
  },
  {
   "cell_type": "markdown",
   "metadata": {},
   "source": [
    "review_scores_location"
   ]
  },
  {
   "cell_type": "code",
   "execution_count": 54,
   "metadata": {},
   "outputs": [],
   "source": [
    "#Sustiruye los valores nulos porla mediana manteniendo las estadisticas con distribucion normal de los reviws ajustadas\n",
    "data0['review_scores_location']=data0['review_scores_location'].fillna(round(data0 ['review_scores_location'].median(),2))"
   ]
  },
  {
   "cell_type": "markdown",
   "metadata": {},
   "source": [
    "review_scores_value"
   ]
  },
  {
   "cell_type": "code",
   "execution_count": 55,
   "metadata": {},
   "outputs": [],
   "source": [
    "#Sustiruye los valores nulos porla mediana manteniendo las estadisticas con distribucion normal de los reviws ajustadas\n",
    "data0['review_scores_value']=data0['review_scores_value'].fillna(round(data0 ['review_scores_value'].median(),2))"
   ]
  },
  {
   "cell_type": "markdown",
   "metadata": {},
   "source": [
    "reviews_per_month"
   ]
  },
  {
   "cell_type": "code",
   "execution_count": 56,
   "metadata": {},
   "outputs": [],
   "source": [
    "#Sustiruye los valores nulos porla mediana manteniendo las estadisticas con distribucion normal de los reviws ajustadas\n",
    "data0['reviews_per_month']=data0['reviews_per_month'].fillna(round(data0 ['reviews_per_month'].median(),2))"
   ]
  },
  {
   "cell_type": "code",
   "execution_count": 57,
   "metadata": {},
   "outputs": [
    {
     "data": {
      "text/plain": [
       "np.int64(0)"
      ]
     },
     "execution_count": 57,
     "metadata": {},
     "output_type": "execute_result"
    }
   ],
   "source": [
    "valores_nulos=data0.isnull().sum().sum()  \n",
    "valores_nulos"
   ]
  },
  {
   "cell_type": "code",
   "execution_count": 58,
   "metadata": {},
   "outputs": [],
   "source": [
    "data0.to_csv(\"Valores_Nulos_Limpios_México.csv\")"
   ]
  }
 ],
 "metadata": {
  "kernelspec": {
   "display_name": "Python 3",
   "language": "python",
   "name": "python3"
  },
  "language_info": {
   "codemirror_mode": {
    "name": "ipython",
    "version": 3
   },
   "file_extension": ".py",
   "mimetype": "text/x-python",
   "name": "python",
   "nbconvert_exporter": "python",
   "pygments_lexer": "ipython3",
   "version": "3.13.1"
  }
 },
 "nbformat": 4,
 "nbformat_minor": 2
}
